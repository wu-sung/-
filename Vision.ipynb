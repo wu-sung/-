{
 "cells": [
  {
   "cell_type": "code",
   "execution_count": 1,
   "id": "initial_id",
   "metadata": {
    "collapsed": true,
    "ExecuteTime": {
     "end_time": "2024-02-29T07:20:37.113596200Z",
     "start_time": "2024-02-29T07:18:40.540573600Z"
    }
   },
   "outputs": [
    {
     "name": "stdout",
     "output_type": "stream",
     "text": [
      "Epoch [1/10], Loss: 0.02183910831809044\n",
      "Epoch [2/10], Loss: 0.015834631398320198\n",
      "Epoch [3/10], Loss: 0.01643258146941662\n",
      "Epoch [4/10], Loss: 0.01319526880979538\n",
      "Epoch [5/10], Loss: 0.012136519886553288\n",
      "Epoch [6/10], Loss: 0.011775581166148186\n",
      "Epoch [7/10], Loss: 0.011090682819485664\n",
      "Epoch [8/10], Loss: 0.012821582145988941\n",
      "Epoch [9/10], Loss: 0.014443178661167622\n",
      "Epoch [10/10], Loss: 0.010402243584394455\n"
     ]
    },
    {
     "data": {
      "text/plain": "<Figure size 800x400 with 10 Axes>",
      "image/png": "[encoded data removed]"
     },
     "metadata": {},
     "output_type": "display_data"
    }
   ],
   "source": [
    "import torch\n",
    "import torch.nn as nn\n",
    "import torch.optim as optim\n",
    "from torchvision import datasets, transforms\n",
    "from torch.utils.data import DataLoader\n",
    "\n",
    "# 잠재 공간의 차원 설정\n",
    "latent_dim = 32\n",
    "\n",
    "# 간단한 오토인코더 모델 정의\n",
    "class Autoencoder(nn.Module):\n",
    "    def __init__(self):\n",
    "        super(Autoencoder, self).__init__()\n",
    "        self.encoder = nn.Sequential(\n",
    "            nn.Linear(28 * 28, 128),\n",
    "            nn.ReLU(),\n",
    "            nn.Linear(128, latent_dim),\n",
    "            nn.ReLU()\n",
    "        )\n",
    "        self.decoder = nn.Sequential(\n",
    "            nn.Linear(latent_dim, 128),\n",
    "            nn.ReLU(),\n",
    "            nn.Linear(128, 28 * 28),\n",
    "            nn.Sigmoid()\n",
    "        )\n",
    "\n",
    "    def forward(self, x):\n",
    "        x = x.view(x.size(0), -1)  # Flatten input\n",
    "        encoded = self.encoder(x)\n",
    "        decoded = self.decoder(encoded)\n",
    "        return decoded\n",
    "\n",
    "# 오토인코더 모델 인스턴스 생성\n",
    "autoencoder = Autoencoder()\n",
    "\n",
    "# MNIST 데이터셋 불러오기\n",
    "transform = transforms.Compose([transforms.ToTensor()])\n",
    "mnist_dataset = datasets.MNIST(root='./data', train=True, download=True, transform=transform)\n",
    "data_loader = DataLoader(mnist_dataset, batch_size=64, shuffle=True)\n",
    "\n",
    "# 손실 함수 및 최적화 알고리즘 설정\n",
    "criterion = nn.MSELoss()\n",
    "optimizer = optim.Adam(autoencoder.parameters(), lr=1e-3)\n",
    "\n",
    "# 학습\n",
    "num_epochs = 10\n",
    "for epoch in range(num_epochs):\n",
    "    for data, _ in data_loader:\n",
    "        # 데이터 전처리\n",
    "        data = data.view(data.size(0), -1)\n",
    "\n",
    "        # Forward pass\n",
    "        outputs = autoencoder(data)\n",
    "\n",
    "        # Loss 계산 및 역전파\n",
    "        loss = criterion(outputs, data)\n",
    "        optimizer.zero_grad()\n",
    "        loss.backward()\n",
    "        optimizer.step()\n",
    "\n",
    "    # 에폭마다 손실 출력\n",
    "    print(f'Epoch [{epoch+1}/{num_epochs}], Loss: {loss.item()}')\n",
    "\n",
    "# 학습된 모델을 사용하여 이미지 복원\n",
    "import matplotlib.pyplot as plt\n",
    "import numpy as np\n",
    "\n",
    "with torch.no_grad():\n",
    "    test_data = next(iter(data_loader))[0][:5]  # 테스트용 데이터 가져오기\n",
    "    reconstructed = autoencoder(test_data.view(test_data.size(0), -1)).view(-1, 1, 28, 28)\n",
    "\n",
    "    # 원본 이미지와 복원 이미지 비교\n",
    "    plt.figure(figsize=(8, 4))\n",
    "    for i in range(5):\n",
    "        plt.subplot(2, 5, i + 1)\n",
    "        plt.imshow(test_data[i].numpy().squeeze(), cmap='gray')\n",
    "        plt.title('Original')\n",
    "        plt.axis('off')\n",
    "        plt.subplot(2, 5, i + 6)\n",
    "        plt.imshow(reconstructed[i].numpy().squeeze(), cmap='gray')\n",
    "        plt.title('Reconstructed')\n",
    "        plt.axis('off')\n",
    "    plt.show()"
   ]
  },
  {
   "cell_type": "code",
   "outputs": [],
   "source": [],
   "metadata": {
    "collapsed": false
   },
   "id": "65985b7cd66e3b39"
  }
 ],
 "metadata": {
  "kernelspec": {
   "display_name": "Python 3",
   "language": "python",
   "name": "python3"
  },
  "language_info": {
   "codemirror_mode": {
    "name": "ipython",
    "version": 2
   },
   "file_extension": ".py",
   "mimetype": "text/x-python",
   "name": "python",
   "nbconvert_exporter": "python",
   "pygments_lexer": "ipython2",
   "version": "2.7.6"
  }
 },
 "nbformat": 4,
 "nbformat_minor": 5
}
