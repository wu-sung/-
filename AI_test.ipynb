{
 "cells": [
  {
   "cell_type": "code",
   "outputs": [],
   "source": [
    "import torch"
   ],
   "metadata": {
    "collapsed": false,
    "ExecuteTime": {
     "end_time": "2024-02-22T06:10:29.689986800Z",
     "start_time": "2024-02-22T06:10:27.281082300Z"
    }
   },
   "id": "4f37442233f4b9a6",
   "execution_count": 2
  },
  {
   "cell_type": "code",
   "outputs": [],
   "source": [
    "from torch import nn"
   ],
   "metadata": {
    "collapsed": false,
    "ExecuteTime": {
     "end_time": "2024-02-22T06:10:29.704980800Z",
     "start_time": "2024-02-22T06:10:29.684983200Z"
    }
   },
   "id": "88080504ab9ab347",
   "execution_count": 3
  },
  {
   "cell_type": "code",
   "outputs": [],
   "source": [
    "from torch.utils.data import DataLoader"
   ],
   "metadata": {
    "collapsed": false,
    "ExecuteTime": {
     "end_time": "2024-02-22T06:10:29.731982800Z",
     "start_time": "2024-02-22T06:10:29.699983600Z"
    }
   },
   "id": "cee1378920023852",
   "execution_count": 4
  },
  {
   "cell_type": "code",
   "outputs": [],
   "source": [
    "from torchvision import datasets"
   ],
   "metadata": {
    "collapsed": false,
    "ExecuteTime": {
     "end_time": "2024-02-22T06:10:31.881979300Z",
     "start_time": "2024-02-22T06:10:30.820982400Z"
    }
   },
   "id": "db4e0af0f3b886f5",
   "execution_count": 5
  },
  {
   "cell_type": "code",
   "outputs": [],
   "source": [
    "from torchvision.transforms import ToTensor"
   ],
   "metadata": {
    "collapsed": false,
    "ExecuteTime": {
     "end_time": "2024-02-22T06:10:31.904978200Z",
     "start_time": "2024-02-22T06:10:31.884982300Z"
    }
   },
   "id": "aaa590333f60b72a",
   "execution_count": 6
  },
  {
   "cell_type": "code",
   "outputs": [],
   "source": [
    "from torch.utils.data import Dataset, DataLoader\n",
    "from torchvision import transforms\n",
    "from PIL import Image\n",
    "import os"
   ],
   "metadata": {
    "collapsed": false,
    "ExecuteTime": {
     "end_time": "2024-02-22T06:10:32.696978700Z",
     "start_time": "2024-02-22T06:10:32.675979Z"
    }
   },
   "id": "bdda9620f3e8d87c",
   "execution_count": 7
  },
  {
   "cell_type": "code",
   "outputs": [
    {
     "name": "stdout",
     "output_type": "stream",
     "text": [
      "8005\n",
      "2023\n",
      "Shape of X [N,C,H,W]:torch.Size([64, 3, 64, 64])\n",
      "Shape of y: torch.Size([64]) torch.int64\n"
     ]
    }
   ],
   "source": [
    "from torch.utils.data import Dataset, DataLoader\n",
    "from torchvision import transforms\n",
    "from PIL import Image\n",
    "import os\n",
    "\n",
    "class CustomDataset(Dataset):\n",
    "    def __init__(self, image_paths, labels, transform=None):\n",
    "        self.image_paths = image_paths\n",
    "        self.labels = labels\n",
    "        self.transform = transform\n",
    "\n",
    "    def __len__(self):\n",
    "        return len(self.image_paths)\n",
    "\n",
    "    def __getitem__(self, idx):\n",
    "        img_path = self.image_paths[idx]\n",
    "        label = self.labels[idx]\n",
    "\n",
    "        image = Image.open(img_path)\n",
    "\n",
    "        if self.transform:\n",
    "            image = self.transform(image)\n",
    "\n",
    "        return image, label\n",
    "\n",
    "# Train 데이터셋 경로 설정\n",
    "train_dataset_root = r'C:\\\\Users\\\\내문서\\\\Desktop\\\\kaggle\\\\training_set'\n",
    "\n",
    "# Test 데이터셋 경로 설정\n",
    "test_dataset_root = r'C:\\\\Users\\\\내문서\\\\Desktop\\\\kaggle\\\\test_set'\n",
    "\n",
    "# Train 이미지 파일과 레이블을 읽어옴\n",
    "train_images = []\n",
    "train_labels = []\n",
    "\n",
    "for label, class_name in enumerate(os.listdir(train_dataset_root)):\n",
    "    class_path = os.path.join(train_dataset_root, class_name)\n",
    "    if os.path.isdir(class_path):\n",
    "        for filename in os.listdir(class_path):\n",
    "            img_path = os.path.join(class_path, filename)\n",
    "            train_images.append(img_path)\n",
    "            train_labels.append(label)\n",
    "\n",
    "# Test 이미지 파일과 레이블을 읽어옴\n",
    "test_images = []\n",
    "test_labels = []\n",
    "\n",
    "for label, class_name in enumerate(os.listdir(test_dataset_root)):\n",
    "    class_path = os.path.join(test_dataset_root, class_name)\n",
    "    if os.path.isdir(class_path):\n",
    "        for filename in os.listdir(class_path):\n",
    "            img_path = os.path.join(class_path, filename)\n",
    "            test_images.append(img_path)\n",
    "            test_labels.append(label)\n",
    "\n",
    "## 데이터 변환 정의\n",
    "transform = transforms.Compose([\n",
    "    transforms.Resize((64, 64)),  # 원하는 크기로 조정\n",
    "    transforms.ToTensor()\n",
    "])\n",
    "\n",
    "# Train 데이터셋 생성\n",
    "train_dataset = CustomDataset(train_images, train_labels, transform=transform)\n",
    "\n",
    "# Test 데이터셋 생성\n",
    "test_dataset = CustomDataset(test_images, test_labels, transform=transform)\n",
    "\n",
    "# # 데이터로더 생성\n",
    "# batch_size = 64\n",
    "# train_loader = DataLoader(dataset=train_dataset, batch_size=batch_size, shuffle=True)\n",
    "# test_loader = DataLoader(dataset=test_dataset, batch_size=batch_size, shuffle=False)\n",
    "\n",
    "batch_size = 64\n",
    "print(len(train_dataset))\n",
    "print(len(test_dataset))\n",
    "train_dataloader = DataLoader(train_dataset, batch_size=batch_size, shuffle=True)\n",
    "test_dataloader = DataLoader(test_dataset, batch_size=batch_size, shuffle=False)\n",
    "\n",
    "for X, y in test_dataloader:\n",
    "    print(f\"Shape of X [N,C,H,W]:{X.shape}\" )\n",
    "    print(f\"Shape of y: {y.shape} {y.dtype}\")\n",
    "    break"
   ],
   "metadata": {
    "collapsed": false,
    "ExecuteTime": {
     "end_time": "2024-02-22T06:12:15.680992400Z",
     "start_time": "2024-02-22T06:12:15.333991100Z"
    }
   },
   "id": "d8de45fc314a2334",
   "execution_count": 11
  },
  {
   "cell_type": "markdown",
   "source": [],
   "metadata": {
    "collapsed": false
   },
   "id": "41cbd82667c3f857"
  },
  {
   "cell_type": "code",
   "outputs": [],
   "source": [
    "# FashionMNIST에서 데이터를 가져온 후 테스트\n",
    "\n",
    "# training_data = datasets.FashionMNIST(\n",
    "#     root = \"data\", train = True, download =True,transform = ToTensor(),\n",
    "# )\n",
    "# \n",
    "# test_data = datasets.FashionMNIST(\n",
    "#     root = \"data\", train = False,download=True,transform = ToTensor(),\n",
    "# )"
   ],
   "metadata": {
    "collapsed": false,
    "ExecuteTime": {
     "end_time": "2024-02-22T05:28:10.496835200Z",
     "start_time": "2024-02-22T05:28:10.358836700Z"
    }
   },
   "id": "9a15e6fc5b8a291e",
   "execution_count": 77
  },
  {
   "cell_type": "code",
   "outputs": [
    {
     "name": "stdout",
     "output_type": "stream",
     "text": [
      "Using cuda device\n"
     ]
    }
   ],
   "source": [
    "# cuda를 사용한 gpu\n",
    "\n",
    "device = \"cuda\" if torch.cuda.is_available() else \"cpu\"\n",
    "print(f\"Using {device} device\")"
   ],
   "metadata": {
    "collapsed": false,
    "ExecuteTime": {
     "end_time": "2024-02-22T06:14:04.118286600Z",
     "start_time": "2024-02-22T06:14:04.034297500Z"
    }
   },
   "id": "81e6becef3705948",
   "execution_count": 12
  },
  {
   "cell_type": "code",
   "outputs": [
    {
     "name": "stdout",
     "output_type": "stream",
     "text": [
      "NeuralNetwork(\n",
      "  (flatten): Flatten(start_dim=1, end_dim=-1)\n",
      "  (linear_relu_stack): Sequential(\n",
      "    (0): Linear(in_features=12288, out_features=1440, bias=True)\n",
      "    (1): ReLU()\n",
      "    (2): Linear(in_features=1440, out_features=1440, bias=True)\n",
      "    (3): ReLU()\n",
      "    (4): Linear(in_features=1440, out_features=1000, bias=True)\n",
      "    (5): ReLU()\n",
      "    (6): Linear(in_features=1000, out_features=1000, bias=True)\n",
      "    (7): ReLU()\n",
      "    (8): Linear(in_features=1000, out_features=1000, bias=True)\n",
      "    (9): ReLU()\n",
      "    (10): Linear(in_features=1000, out_features=784, bias=True)\n",
      "    (11): ReLU()\n",
      "    (12): Linear(in_features=784, out_features=784, bias=True)\n",
      "    (13): ReLU()\n",
      "    (14): Linear(in_features=784, out_features=324, bias=True)\n",
      "    (15): ReLU()\n",
      "    (16): Linear(in_features=324, out_features=64, bias=True)\n",
      "    (17): ReLU()\n",
      "    (18): Linear(in_features=64, out_features=2, bias=True)\n",
      "  )\n",
      ")\n"
     ]
    }
   ],
   "source": [
    "# 신경망 구축\n",
    "\n",
    "class NeuralNetwork(nn.Module):\n",
    "    def __init__(self, input_size, hidden_sizes, output_size):\n",
    "        super(NeuralNetwork, self).__init__()\n",
    "        self.flatten = nn.Flatten()\n",
    "        \n",
    "        layers = []\n",
    "        sizes = [input_size] + hidden_sizes + [output_size]\n",
    "        \n",
    "        for i in range(len(sizes) - 1):\n",
    "            layers.append(nn.Linear(sizes[i], sizes[i+1]))\n",
    "            if i < len(sizes) - 2:  # Add ReLU activation except for the last layer\n",
    "                layers.append(nn.ReLU())\n",
    "        \n",
    "        self.linear_relu_stack = nn.Sequential(*layers)\n",
    "\n",
    "    def forward(self, x):\n",
    "        x = self.flatten(x)\n",
    "        logit = self.linear_relu_stack(x)\n",
    "        return logit\n",
    "\n",
    "# 이미지 크기와 클래스 수에 맞게 모델을 초기화\n",
    "input_size = 64 * 64 * 3  \n",
    "hidden_sizes = [1440, 1440, 1000, 1000, 1000, 784, 784, 324, 64] \n",
    "output_size = 2  # 클래스 수에 따라 조절\n",
    "\n",
    "# 모델 정의\n",
    "model = NeuralNetwork(input_size, hidden_sizes, output_size).to(device)\n",
    "print(model)"
   ],
   "metadata": {
    "collapsed": false,
    "ExecuteTime": {
     "end_time": "2024-02-22T06:14:05.831793200Z",
     "start_time": "2024-02-22T06:14:04.615294100Z"
    }
   },
   "id": "b89ed3c7f8d6ce8b",
   "execution_count": 13
  },
  {
   "cell_type": "code",
   "outputs": [],
   "source": [
    "# loss function 정의\n",
    "loss_fn = nn.CrossEntropyLoss()\n",
    "\n",
    "optimizer = torch.optim.SGD(model.parameters(), lr=1e-3)"
   ],
   "metadata": {
    "collapsed": false,
    "ExecuteTime": {
     "end_time": "2024-02-22T06:14:07.081214600Z",
     "start_time": "2024-02-22T06:14:07.057215900Z"
    }
   },
   "id": "7b42130ce4f9d06b",
   "execution_count": 14
  },
  {
   "cell_type": "code",
   "outputs": [],
   "source": [
    "def train(dataloader, model, loss_fn, optimizer):\n",
    "    size = len(dataloader.dataset)\n",
    "    model.train()\n",
    "    for batch, (X,y) in enumerate(dataloader):\n",
    "        X,y = X.to(device), y.to(device)\n",
    "        \n",
    "        pred = model(X)\n",
    "        loss= loss_fn(pred, y)\n",
    "        \n",
    "        optimizer.zero_grad()\n",
    "        loss.backward()\n",
    "        optimizer.step()\n",
    "        \n",
    "        if batch % 100 == 0:\n",
    "            loss, current = loss.item(), batch * len(X)\n",
    "            print(f'Loss: {loss:7f}[{current:>5d}/{size:>5d}]')"
   ],
   "metadata": {
    "collapsed": false
   },
   "id": "3b6869bc2856e427",
   "execution_count": 15
  },
  {
   "cell_type": "code",
   "outputs": [],
   "source": [
    "def test(dataloader, model, loss_fn):\n",
    "    size = len(dataloader.dataset)\n",
    "    num_batches = len(dataloader)\n",
    "    # 꼭 넣어야한다.\n",
    "    model.eval()\n",
    "    test_loss, correct = 0, 0\n",
    "    with torch.no_grad():\n",
    "        for X, y in dataloader:\n",
    "            X, y = X.to(device), y.to(device)\n",
    "            pred = model(X)\n",
    "            test_loss += loss_fn(pred, y).item()\n",
    "            correct += (pred.argmax(1) == y).type(torch.float).sum().item()\n",
    "            \n",
    "    test_loss /= num_batches\n",
    "    correct /= size\n",
    "    print(f\"test Error : \\n Accruacy: {(100*correct):>0.1f}%, Avg loss: {test_loss:>8f}\\n\")"
   ],
   "metadata": {
    "collapsed": false,
    "ExecuteTime": {
     "end_time": "2024-02-22T06:14:16.012853800Z",
     "start_time": "2024-02-22T06:14:16.002854100Z"
    }
   },
   "id": "10eedd932ca68581",
   "execution_count": 16
  },
  {
   "cell_type": "code",
   "outputs": [
    {
     "name": "stdout",
     "output_type": "stream",
     "text": [
      "Epoch 1 \n",
      "=============================\n",
      "Loss: 0.696766[    0/ 8005]\n",
      "Loss: 0.699927[ 6400/ 8005]\n",
      "test Error : \n",
      " Accruacy: 50.0%, Avg loss: 0.695306\n",
      "\n",
      "Epoch 2 \n",
      "=============================\n",
      "Loss: 0.692910[    0/ 8005]\n",
      "Loss: 0.694432[ 6400/ 8005]\n",
      "test Error : \n",
      " Accruacy: 50.0%, Avg loss: 0.695026\n",
      "\n",
      "Epoch 3 \n",
      "=============================\n",
      "Loss: 0.702267[    0/ 8005]\n",
      "Loss: 0.683974[ 6400/ 8005]\n",
      "test Error : \n",
      " Accruacy: 50.0%, Avg loss: 0.694772\n",
      "\n",
      "Epoch 4 \n",
      "=============================\n",
      "Loss: 0.691350[    0/ 8005]\n",
      "Loss: 0.687425[ 6400/ 8005]\n",
      "test Error : \n",
      " Accruacy: 50.0%, Avg loss: 0.694525\n",
      "\n",
      "Epoch 5 \n",
      "=============================\n",
      "Loss: 0.708151[    0/ 8005]\n",
      "Loss: 0.689090[ 6400/ 8005]\n",
      "test Error : \n",
      " Accruacy: 50.0%, Avg loss: 0.694353\n",
      "\n",
      "Epoch 6 \n",
      "=============================\n",
      "Loss: 0.692686[    0/ 8005]\n",
      "Loss: 0.699495[ 6400/ 8005]\n",
      "test Error : \n",
      " Accruacy: 50.0%, Avg loss: 0.694215\n",
      "\n",
      "Epoch 7 \n",
      "=============================\n",
      "Loss: 0.689356[    0/ 8005]\n",
      "Loss: 0.695752[ 6400/ 8005]\n",
      "test Error : \n",
      " Accruacy: 50.0%, Avg loss: 0.694094\n",
      "\n",
      "Epoch 8 \n",
      "=============================\n",
      "Loss: 0.700853[    0/ 8005]\n",
      "Loss: 0.689809[ 6400/ 8005]\n",
      "test Error : \n",
      " Accruacy: 50.0%, Avg loss: 0.693990\n",
      "\n",
      "Epoch 9 \n",
      "=============================\n",
      "Loss: 0.691707[    0/ 8005]\n",
      "Loss: 0.698875[ 6400/ 8005]\n",
      "test Error : \n",
      " Accruacy: 50.0%, Avg loss: 0.693887\n",
      "\n",
      "Epoch 10 \n",
      "=============================\n",
      "Loss: 0.697863[    0/ 8005]\n",
      "Loss: 0.695161[ 6400/ 8005]\n",
      "test Error : \n",
      " Accruacy: 50.0%, Avg loss: 0.693780\n",
      "\n",
      "Done!\n"
     ]
    }
   ],
   "source": [
    "epochs =10\n",
    "for t in range(epochs):\n",
    "    print(f\"Epoch {t+1} \\n=============================\")\n",
    "    train(train_dataloader, model, loss_fn, optimizer)\n",
    "    test(test_dataloader, model,loss_fn)\n",
    "    optimizer.step()\n",
    "    \n",
    "print(\"Done!\")"
   ],
   "metadata": {
    "collapsed": false,
    "ExecuteTime": {
     "end_time": "2024-02-22T06:37:00.918981800Z",
     "start_time": "2024-02-22T06:32:54.865653300Z"
    }
   },
   "id": "da180c48f820326f",
   "execution_count": 18
  },
  {
   "cell_type": "code",
   "outputs": [],
   "source": [],
   "metadata": {
    "collapsed": false
   },
   "id": "60defea8bd76b297"
  }
 ],
 "metadata": {
  "kernelspec": {
   "display_name": "Python 3",
   "language": "python",
   "name": "python3"
  },
  "language_info": {
   "codemirror_mode": {
    "name": "ipython",
    "version": 2
   },
   "file_extension": ".py",
   "mimetype": "text/x-python",
   "name": "python",
   "nbconvert_exporter": "python",
   "pygments_lexer": "ipython2",
   "version": "2.7.6"
  }
 },
 "nbformat": 4,
 "nbformat_minor": 5
}
