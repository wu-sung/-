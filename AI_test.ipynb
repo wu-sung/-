{
 "cells": [
  {
   "cell_type": "code",
   "outputs": [],
   "source": [
    "import torch"
   ],
   "metadata": {
    "collapsed": false,
    "ExecuteTime": {
     "end_time": "2024-02-20T05:28:49.743355600Z",
     "start_time": "2024-02-20T05:28:47.318879800Z"
    }
   },
   "id": "4f37442233f4b9a6",
   "execution_count": 1
  },
  {
   "cell_type": "code",
   "outputs": [],
   "source": [
    "from torch import nn"
   ],
   "metadata": {
    "collapsed": false,
    "ExecuteTime": {
     "end_time": "2024-02-20T05:28:49.763951600Z",
     "start_time": "2024-02-20T05:28:49.744384200Z"
    }
   },
   "id": "88080504ab9ab347",
   "execution_count": 2
  },
  {
   "cell_type": "code",
   "outputs": [],
   "source": [
    "from torch.utils.data import DataLoader"
   ],
   "metadata": {
    "collapsed": false,
    "ExecuteTime": {
     "end_time": "2024-02-20T05:28:49.797944900Z",
     "start_time": "2024-02-20T05:28:49.764948900Z"
    }
   },
   "id": "cee1378920023852",
   "execution_count": 3
  },
  {
   "cell_type": "code",
   "outputs": [],
   "source": [
    "from torchvision import datasets"
   ],
   "metadata": {
    "collapsed": false,
    "ExecuteTime": {
     "end_time": "2024-02-20T05:28:50.675870800Z",
     "start_time": "2024-02-20T05:28:49.796947Z"
    }
   },
   "id": "db4e0af0f3b886f5",
   "execution_count": 4
  },
  {
   "cell_type": "code",
   "outputs": [],
   "source": [
    "from torchvision.transforms import ToTensor"
   ],
   "metadata": {
    "collapsed": false,
    "ExecuteTime": {
     "end_time": "2024-02-20T05:28:50.693914Z",
     "start_time": "2024-02-20T05:28:50.678873600Z"
    }
   },
   "id": "aaa590333f60b72a",
   "execution_count": 5
  },
  {
   "cell_type": "markdown",
   "source": [],
   "metadata": {
    "collapsed": false
   },
   "id": "41cbd82667c3f857"
  },
  {
   "cell_type": "code",
   "outputs": [],
   "source": [
    "training_data = datasets.FashionMNIST(\n",
    "    root = \"data\", train = True, download =True,transform = ToTensor(),\n",
    ")\n",
    "\n",
    "test_data = datasets.FashionMNIST(\n",
    "    root = \"data\", train = False,download=True,transform = ToTensor(),\n",
    ")"
   ],
   "metadata": {
    "collapsed": false,
    "ExecuteTime": {
     "end_time": "2024-02-20T05:28:53.086471300Z",
     "start_time": "2024-02-20T05:28:50.696912500Z"
    }
   },
   "id": "9a15e6fc5b8a291e",
   "execution_count": 6
  },
  {
   "cell_type": "code",
   "outputs": [
    {
     "name": "stdout",
     "output_type": "stream",
     "text": [
      "60000\n",
      "10000\n",
      "Shape of X [N,C,H,W]:torch.Size([64, 1, 28, 28])\n",
      "Shape of y: torch.Size([64]) torch.int64\n"
     ]
    }
   ],
   "source": [
    "batch_size = 64\n",
    "print(len(training_data))\n",
    "print(len(test_data))\n",
    "train_dataloader = DataLoader(training_data, batch_size=batch_size, shuffle=True)\n",
    "test_dataloader = DataLoader(test_data, batch_size=batch_size, shuffle=False)\n",
    "\n",
    "for X, y in test_dataloader:\n",
    "    print(f\"Shape of X [N,C,H,W]:{X.shape}\" )\n",
    "    print(f\"Shape of y: {y.shape} {y.dtype}\")\n",
    "    break"
   ],
   "metadata": {
    "collapsed": false,
    "ExecuteTime": {
     "end_time": "2024-02-20T05:28:53.112470400Z",
     "start_time": "2024-02-20T05:28:52.988310Z"
    }
   },
   "id": "49f69cd59c23d647",
   "execution_count": 7
  },
  {
   "cell_type": "code",
   "outputs": [
    {
     "name": "stdout",
     "output_type": "stream",
     "text": [
      "Using cuda device\n"
     ]
    }
   ],
   "source": [
    "device = \"cuda\" if torch.cuda.is_available() else \"cpu\"\n",
    "print(f\"Using {device} device\")"
   ],
   "metadata": {
    "collapsed": false,
    "ExecuteTime": {
     "end_time": "2024-02-20T05:28:54.256622900Z",
     "start_time": "2024-02-20T05:28:53.098472200Z"
    }
   },
   "id": "81e6becef3705948",
   "execution_count": 8
  },
  {
   "cell_type": "code",
   "outputs": [
    {
     "name": "stdout",
     "output_type": "stream",
     "text": [
      "NerualNetwork(\n",
      "  (flatten): Flatten(start_dim=1, end_dim=-1)\n",
      "  (linear_relu_stack): Sequential(\n",
      "    (0): Linear(in_features=784, out_features=512, bias=True)\n",
      "    (1): ReLU()\n",
      "    (2): Linear(in_features=512, out_features=512, bias=True)\n",
      "    (3): ReLU()\n",
      "    (4): Linear(in_features=512, out_features=10, bias=True)\n",
      "  )\n",
      ")\n"
     ]
    }
   ],
   "source": [
    "#  모델 정의\n",
    "class NerualNetwork(nn.Module):\n",
    "    def __init__(self):\n",
    "        super(NerualNetwork,self).__init__()\n",
    "        self.flatten = nn.Flatten()\n",
    "        self.linear_relu_stack = nn.Sequential(\n",
    "            nn.Linear(28*28,512),\n",
    "            nn.ReLU(),\n",
    "            nn.Linear(512,512),\n",
    "            nn.ReLU(),\n",
    "            nn.Linear(512,10)\n",
    "        )\n",
    "        \n",
    "    def forward(self, x):\n",
    "        x = self.flatten(x)\n",
    "        logit = self.linear_relu_stack(x)\n",
    "        return logit\n",
    "    \n",
    "model = NerualNetwork().to(device)\n",
    "print(model)"
   ],
   "metadata": {
    "collapsed": false,
    "ExecuteTime": {
     "end_time": "2024-02-20T05:28:54.563622500Z",
     "start_time": "2024-02-20T05:28:54.260627800Z"
    }
   },
   "id": "b89ed3c7f8d6ce8b",
   "execution_count": 9
  },
  {
   "cell_type": "code",
   "outputs": [],
   "source": [
    "# loss function 정의\n",
    "loss_fn = nn.CrossEntropyLoss()\n",
    "\n",
    "optimizer = torch.optim.SGD(model.parameters(), lr=1e-3)"
   ],
   "metadata": {
    "collapsed": false,
    "ExecuteTime": {
     "end_time": "2024-02-20T05:28:54.616622600Z",
     "start_time": "2024-02-20T05:28:54.564624700Z"
    }
   },
   "id": "7b42130ce4f9d06b",
   "execution_count": 10
  },
  {
   "cell_type": "code",
   "outputs": [],
   "source": [
    "def train(dataloader, model, loss_fn, optimizer):\n",
    "    size = len(dataloader.dataset)\n",
    "    model.train()\n",
    "    for batch, (X,y) in enumerate(dataloader):\n",
    "        X,y = X.to(device), y.to(device)\n",
    "        \n",
    "        pred = model(X)\n",
    "        loss= loss_fn(pred, y)\n",
    "        \n",
    "        optimizer.zero_grad()\n",
    "        loss.backward()\n",
    "        optimizer.step()\n",
    "        \n",
    "        if batch % 100 == 0:\n",
    "            loss, current = loss.item(), batch * len(X)\n",
    "            print(f'Loss: {loss:7f}[{current:>5d}/{size:>5d}]')"
   ],
   "metadata": {
    "collapsed": false,
    "ExecuteTime": {
     "end_time": "2024-02-20T05:28:54.638622700Z",
     "start_time": "2024-02-20T05:28:54.597626500Z"
    }
   },
   "id": "3b6869bc2856e427",
   "execution_count": 11
  },
  {
   "cell_type": "code",
   "outputs": [],
   "source": [
    "def test(dataloader, model, loss_fn):\n",
    "    size = len(dataloader.dataset)\n",
    "    num_batches = len(dataloader)\n",
    "    # 꼭 넣어야한다.\n",
    "    model.eval()\n",
    "    test_loss, correct = 0, 0\n",
    "    with torch.no_grad():\n",
    "        for X, y in dataloader:\n",
    "            X, y = X.to(device), y.to(device)\n",
    "            pred = model(X)\n",
    "            test_loss += loss_fn(pred, y).item()\n",
    "            correct += (pred.argmax(1) == y).type(torch.float).sum().item()\n",
    "            \n",
    "    test_loss /= num_batches\n",
    "    correct /= size\n",
    "    print(f\"test Error : \\n Accruacy: {(100*correct):>0.1f}%, Avg loss: {test_loss:>8f}\\n\")"
   ],
   "metadata": {
    "collapsed": false,
    "ExecuteTime": {
     "end_time": "2024-02-20T05:28:54.680621800Z",
     "start_time": "2024-02-20T05:28:54.635623400Z"
    }
   },
   "id": "10eedd932ca68581",
   "execution_count": 12
  },
  {
   "cell_type": "code",
   "outputs": [
    {
     "name": "stdout",
     "output_type": "stream",
     "text": [
      "Epoch 1 \n",
      "=============================\n",
      "Loss: 2.303512[    0/60000]\n",
      "Loss: 2.293226[ 6400/60000]\n",
      "Loss: 2.286226[12800/60000]\n",
      "Loss: 2.255653[19200/60000]\n",
      "Loss: 2.253332[25600/60000]\n",
      "Loss: 2.234198[32000/60000]\n",
      "Loss: 2.213331[38400/60000]\n",
      "Loss: 2.200733[44800/60000]\n",
      "Loss: 2.189119[51200/60000]\n",
      "Loss: 2.166766[57600/60000]\n",
      "test Error : \n",
      " Accruacy: 41.1%, Avg loss: 2.162140\n",
      "\n",
      "Epoch 2 \n",
      "=============================\n",
      "Loss: 2.141944[    0/60000]\n",
      "Loss: 2.122997[ 6400/60000]\n",
      "Loss: 2.135023[12800/60000]\n",
      "Loss: 2.082312[19200/60000]\n",
      "Loss: 2.071635[25600/60000]\n",
      "Loss: 2.038955[32000/60000]\n",
      "Loss: 2.042037[38400/60000]\n",
      "Loss: 2.024802[44800/60000]\n",
      "Loss: 1.977182[51200/60000]\n",
      "Loss: 1.906080[57600/60000]\n",
      "test Error : \n",
      " Accruacy: 55.2%, Avg loss: 1.895675\n",
      "\n",
      "Epoch 3 \n",
      "=============================\n",
      "Loss: 1.894429[    0/60000]\n",
      "Loss: 1.891061[ 6400/60000]\n",
      "Loss: 1.761491[12800/60000]\n",
      "Loss: 1.791420[19200/60000]\n",
      "Loss: 1.757054[25600/60000]\n",
      "Loss: 1.629538[32000/60000]\n",
      "Loss: 1.685951[38400/60000]\n",
      "Loss: 1.640075[44800/60000]\n",
      "Loss: 1.587102[51200/60000]\n",
      "Loss: 1.521678[57600/60000]\n",
      "test Error : \n",
      " Accruacy: 61.2%, Avg loss: 1.521384\n",
      "\n",
      "Epoch 4 \n",
      "=============================\n",
      "Loss: 1.531343[    0/60000]\n",
      "Loss: 1.458301[ 6400/60000]\n",
      "Loss: 1.467293[12800/60000]\n",
      "Loss: 1.497426[19200/60000]\n",
      "Loss: 1.421026[25600/60000]\n",
      "Loss: 1.301828[32000/60000]\n",
      "Loss: 1.305632[38400/60000]\n",
      "Loss: 1.304174[44800/60000]\n",
      "Loss: 1.293920[51200/60000]\n",
      "Loss: 1.284409[57600/60000]\n",
      "test Error : \n",
      " Accruacy: 63.4%, Avg loss: 1.248721\n",
      "\n",
      "Epoch 5 \n",
      "=============================\n",
      "Loss: 1.356436[    0/60000]\n",
      "Loss: 1.260841[ 6400/60000]\n",
      "Loss: 1.127074[12800/60000]\n",
      "Loss: 1.215146[19200/60000]\n",
      "Loss: 1.123333[25600/60000]\n",
      "Loss: 1.185603[32000/60000]\n",
      "Loss: 1.166794[38400/60000]\n",
      "Loss: 1.199584[44800/60000]\n",
      "Loss: 1.044442[51200/60000]\n",
      "Loss: 1.152585[57600/60000]\n",
      "test Error : \n",
      " Accruacy: 64.2%, Avg loss: 1.081365\n",
      "\n",
      "Done!\n"
     ]
    }
   ],
   "source": [
    "epochs =5 \n",
    "for t in range(epochs):\n",
    "    print(f\"Epoch {t+1} \\n=============================\")\n",
    "    train(train_dataloader, model, loss_fn, optimizer)\n",
    "    test(test_dataloader, model,loss_fn)\n",
    "    optimizer.step()\n",
    "    \n",
    "print(\"Done!\")"
   ],
   "metadata": {
    "collapsed": false,
    "ExecuteTime": {
     "end_time": "2024-02-20T05:30:11.575127800Z",
     "start_time": "2024-02-20T05:29:07.070218600Z"
    }
   },
   "id": "da180c48f820326f",
   "execution_count": 13
  },
  {
   "cell_type": "code",
   "outputs": [],
   "source": [],
   "metadata": {
    "collapsed": false
   },
   "id": "69a7662802394fae"
  }
 ],
 "metadata": {
  "kernelspec": {
   "display_name": "Python 3",
   "language": "python",
   "name": "python3"
  },
  "language_info": {
   "codemirror_mode": {
    "name": "ipython",
    "version": 2
   },
   "file_extension": ".py",
   "mimetype": "text/x-python",
   "name": "python",
   "nbconvert_exporter": "python",
   "pygments_lexer": "ipython2",
   "version": "2.7.6"
  }
 },
 "nbformat": 4,
 "nbformat_minor": 5
}
